{
  "nbformat": 4,
  "nbformat_minor": 0,
  "metadata": {
    "colab": {
      "name": "Lesson_2+.ipynb",
      "provenance": [],
      "collapsed_sections": [],
      "authorship_tag": "ABX9TyOiEn564bMXA1FkcEnlEYmy",
      "include_colab_link": true
    },
    "kernelspec": {
      "name": "python3",
      "display_name": "Python 3"
    }
  },
  "cells": [
    {
      "cell_type": "markdown",
      "metadata": {
        "id": "view-in-github",
        "colab_type": "text"
      },
      "source": [
        "<a href=\"https://colab.research.google.com/github/map72ru/python_data_lib/blob/main/Lesson_2%2B.ipynb\" target=\"_parent\"><img src=\"https://colab.research.google.com/assets/colab-badge.svg\" alt=\"Open In Colab\"/></a>"
      ]
    },
    {
      "cell_type": "markdown",
      "metadata": {
        "id": "qE3ZHGarfx2J"
      },
      "source": [
        "# **Задание на повторение материала"
      ]
    },
    {
      "cell_type": "markdown",
      "metadata": {
        "id": "DvIxhsDxf0yv"
      },
      "source": [
        "Создать одномерный массив Numpy под названием a из 12 последовательных целых чисел чисел от 12 до 24 невключительно"
      ]
    },
    {
      "cell_type": "code",
      "metadata": {
        "id": "Rx-Xk5H9f4-X",
        "outputId": "5d0170ea-3126-4a6d-ebe6-93766aa3c9bb",
        "colab": {
          "base_uri": "https://localhost:8080/",
          "height": 34
        }
      },
      "source": [
        "import numpy as np\n",
        "\n",
        "a = np.linspace(12, 24, 12, endpoint=False)\n",
        "a"
      ],
      "execution_count": null,
      "outputs": [
        {
          "output_type": "execute_result",
          "data": {
            "text/plain": [
              "array([12., 13., 14., 15., 16., 17., 18., 19., 20., 21., 22., 23.])"
            ]
          },
          "metadata": {
            "tags": []
          },
          "execution_count": 2
        }
      ]
    },
    {
      "cell_type": "markdown",
      "metadata": {
        "id": "Jmg9raQlhF4P"
      },
      "source": [
        "Создать 5 двумерных массивов разной формы из массива a. Не использовать в аргументах метода reshape число -1."
      ]
    },
    {
      "cell_type": "code",
      "metadata": {
        "id": "0g0ScfrShOQw",
        "outputId": "51630f55-f202-4c2c-8289-26951b22ee55",
        "colab": {
          "base_uri": "https://localhost:8080/",
          "height": 476
        }
      },
      "source": [
        "a1=a.reshape(2, 6)\n",
        "a2=a.reshape(6, 2)\n",
        "a3=a.reshape(3, 4)\n",
        "a4=a.reshape(4, 3)\n",
        "a5=a.reshape(12, 1)\n",
        "\n",
        "print('a1', a1)\n",
        "print('a2', a2)\n",
        "print('a3', a3)\n",
        "print('a4', a4)\n",
        "print('a5', a5)"
      ],
      "execution_count": null,
      "outputs": [
        {
          "output_type": "stream",
          "text": [
            "a1 [[12. 13. 14. 15. 16. 17.]\n",
            " [18. 19. 20. 21. 22. 23.]]\n",
            "a2 [[12. 13.]\n",
            " [14. 15.]\n",
            " [16. 17.]\n",
            " [18. 19.]\n",
            " [20. 21.]\n",
            " [22. 23.]]\n",
            "a3 [[12. 13. 14. 15.]\n",
            " [16. 17. 18. 19.]\n",
            " [20. 21. 22. 23.]]\n",
            "a4 [[12. 13. 14.]\n",
            " [15. 16. 17.]\n",
            " [18. 19. 20.]\n",
            " [21. 22. 23.]]\n",
            "a5 [[12.]\n",
            " [13.]\n",
            " [14.]\n",
            " [15.]\n",
            " [16.]\n",
            " [17.]\n",
            " [18.]\n",
            " [19.]\n",
            " [20.]\n",
            " [21.]\n",
            " [22.]\n",
            " [23.]]\n"
          ],
          "name": "stdout"
        }
      ]
    },
    {
      "cell_type": "markdown",
      "metadata": {
        "id": "g_GSVkRZm5Yc"
      },
      "source": [
        "Создать 5 двумерных массивов разной формы из массива a. Использовать в аргументах метода reshape число -1 (в трех примерах - для обозначения числа столбцов, в двух - для строк)."
      ]
    },
    {
      "cell_type": "code",
      "metadata": {
        "id": "4g7EZboym67u",
        "outputId": "e6208482-06d5-435c-c34e-6f83acb2ca21",
        "colab": {
          "base_uri": "https://localhost:8080/",
          "height": 476
        }
      },
      "source": [
        "a1=a.reshape(2, -1)\n",
        "a2=a.reshape(6, -1)\n",
        "a3=a.reshape(3, -1)\n",
        "a4=a.reshape(-1, 3)\n",
        "a5=a.reshape(-1, 1)\n",
        "\n",
        "print('a1', a1)\n",
        "print('a2', a2)\n",
        "print('a3', a3)\n",
        "print('a4', a4)\n",
        "print('a5', a5)"
      ],
      "execution_count": null,
      "outputs": [
        {
          "output_type": "stream",
          "text": [
            "a1 [[12. 13. 14. 15. 16. 17.]\n",
            " [18. 19. 20. 21. 22. 23.]]\n",
            "a2 [[12. 13.]\n",
            " [14. 15.]\n",
            " [16. 17.]\n",
            " [18. 19.]\n",
            " [20. 21.]\n",
            " [22. 23.]]\n",
            "a3 [[12. 13. 14. 15.]\n",
            " [16. 17. 18. 19.]\n",
            " [20. 21. 22. 23.]]\n",
            "a4 [[12. 13. 14.]\n",
            " [15. 16. 17.]\n",
            " [18. 19. 20.]\n",
            " [21. 22. 23.]]\n",
            "a5 [[12.]\n",
            " [13.]\n",
            " [14.]\n",
            " [15.]\n",
            " [16.]\n",
            " [17.]\n",
            " [18.]\n",
            " [19.]\n",
            " [20.]\n",
            " [21.]\n",
            " [22.]\n",
            " [23.]]\n"
          ],
          "name": "stdout"
        }
      ]
    },
    {
      "cell_type": "markdown",
      "metadata": {
        "id": "lormsk4V6fOH"
      },
      "source": [
        "Можно ли массив Numpy, состоящий из одного столбца и 12 строк, назвать одномерным?\n"
      ]
    },
    {
      "cell_type": "code",
      "metadata": {
        "id": "TD1NCSE66joA",
        "outputId": "0d43b421-2916-4d62-dad4-c1e9c8b1fffa",
        "colab": {
          "base_uri": "https://localhost:8080/",
          "height": 34
        }
      },
      "source": [
        "print('Нет, это будет двухмерный массив')"
      ],
      "execution_count": null,
      "outputs": [
        {
          "output_type": "stream",
          "text": [
            "Нет, это будет двухмерный массив\n"
          ],
          "name": "stdout"
        }
      ]
    },
    {
      "cell_type": "markdown",
      "metadata": {
        "id": "gx1M2FBl6vA9"
      },
      "source": [
        "Создать массив из 3 строк и 4 столбцов, состоящий из случайных чисел с плавающей запятой из нормального распределения со средним, равным 0 и среднеквадратичным отклонением, равным 1.0. Получить из этого массива одномерный массив с таким же атрибутом size, как и исходный массив."
      ]
    },
    {
      "cell_type": "code",
      "metadata": {
        "id": "WpLwU81l6xjH",
        "outputId": "e5f143a1-9fe3-46b5-ff60-4c01b5092c7c",
        "colab": {
          "base_uri": "https://localhost:8080/",
          "height": 136
        }
      },
      "source": [
        "rd = np.random.default_rng()\n",
        "f = rd.normal(0, 1.0, size=(3, 4))\n",
        "print('random array[3,4] = ', f)\n",
        "r = f.reshape(f.size)\n",
        "print('random array[12] = ', r)\n",
        "print('Mean=', np.mean(r))\n",
        "print('Sigma=', np.std(r, ddof=1))"
      ],
      "execution_count": null,
      "outputs": [
        {
          "output_type": "stream",
          "text": [
            "random array[3,4] =  [[ 0.74527844  0.4743249   0.29661944  0.53516889]\n",
            " [ 0.10973701 -0.08243236 -1.41496082 -0.41033566]\n",
            " [ 0.67349182  0.21659035  0.02495382  0.02042963]]\n",
            "random array[12] =  [ 0.74527844  0.4743249   0.29661944  0.53516889  0.10973701 -0.08243236\n",
            " -1.41496082 -0.41033566  0.67349182  0.21659035  0.02495382  0.02042963]\n",
            "Mean= 0.09907212196439058\n",
            "Sigma= 0.5821511004573393\n"
          ],
          "name": "stdout"
        }
      ]
    },
    {
      "cell_type": "markdown",
      "metadata": {
        "id": "61yRLMwFCLuF"
      },
      "source": [
        "Создать массив a, состоящий из целых чисел, убывающих от 20 до 0 невключительно с интервалом 2."
      ]
    },
    {
      "cell_type": "code",
      "metadata": {
        "id": "kfbjF2IVDRHT"
      },
      "source": [
        ""
      ],
      "execution_count": null,
      "outputs": []
    },
    {
      "cell_type": "code",
      "metadata": {
        "id": "HTAe5T3sCPWl",
        "outputId": "71b03b14-8b79-4e63-f5e1-49846f5a966e",
        "colab": {
          "base_uri": "https://localhost:8080/",
          "height": 34
        }
      },
      "source": [
        "a = np.linspace(20, 0, 10, endpoint=False, retstep=2, dtype=int)\n",
        "a"
      ],
      "execution_count": null,
      "outputs": [
        {
          "output_type": "execute_result",
          "data": {
            "text/plain": [
              "(array([20, 18, 16, 14, 12, 10,  8,  6,  4,  2]), -2.0)"
            ]
          },
          "metadata": {
            "tags": []
          },
          "execution_count": 26
        }
      ]
    },
    {
      "cell_type": "markdown",
      "metadata": {
        "id": "rNxabNp1C3T1"
      },
      "source": [
        "Создать массив b, состоящий из 1 строки и 10 столбцов: целых чисел, убывающих от 20 до 1 невключительно с интервалом 2. В чем разница между массивами a и b?"
      ]
    },
    {
      "cell_type": "code",
      "metadata": {
        "id": "vigWY8r5C4v1",
        "outputId": "f3d821a0-415e-4636-f475-6ff87e521e78",
        "colab": {
          "base_uri": "https://localhost:8080/",
          "height": 204
        }
      },
      "source": [
        "b = np.linspace(start=[20], stop=[1], num=10, endpoint=False, retstep=False, dtype=int, axis=0)\n",
        "print(b)\n",
        "print(' a это одномерный массив, в - двухмерный, разное количество элементов')"
      ],
      "execution_count": null,
      "outputs": [
        {
          "output_type": "stream",
          "text": [
            "[[20]\n",
            " [18]\n",
            " [16]\n",
            " [14]\n",
            " [12]\n",
            " [10]\n",
            " [ 8]\n",
            " [ 6]\n",
            " [ 4]\n",
            " [ 2]]\n",
            " a это одномерный массив, в - двухмерный, разное количество элементов\n"
          ],
          "name": "stdout"
        }
      ]
    },
    {
      "cell_type": "markdown",
      "metadata": {
        "id": "B_CerSlZEyp_"
      },
      "source": [
        "Вертикально соединить массивы a и b. a - двумерный массив из нулей, число строк которого больше 1 и на 1 меньше, чем число строк двумерного массива b, состоящего из единиц. Итоговый массив v должен иметь атрибут size, равный 10."
      ]
    },
    {
      "cell_type": "code",
      "metadata": {
        "id": "R65Xg-EgE3bi",
        "outputId": "74ae0999-7e2c-44ef-a5ae-69088df5c99e",
        "colab": {
          "base_uri": "https://localhost:8080/",
          "height": 170
        }
      },
      "source": [
        "a = np.zeros((4, 4))\n",
        "b = np.zeros((5, 4))+1\n",
        "c = np.vstack((a, b))\n",
        "c"
      ],
      "execution_count": null,
      "outputs": [
        {
          "output_type": "execute_result",
          "data": {
            "text/plain": [
              "array([[0., 0., 0., 0.],\n",
              "       [0., 0., 0., 0.],\n",
              "       [0., 0., 0., 0.],\n",
              "       [0., 0., 0., 0.],\n",
              "       [1., 1., 1., 1.],\n",
              "       [1., 1., 1., 1.],\n",
              "       [1., 1., 1., 1.],\n",
              "       [1., 1., 1., 1.],\n",
              "       [1., 1., 1., 1.]])"
            ]
          },
          "metadata": {
            "tags": []
          },
          "execution_count": 35
        }
      ]
    },
    {
      "cell_type": "markdown",
      "metadata": {
        "id": "s1nVhV2xFzIN"
      },
      "source": [
        "Создать одномерный массив а, состоящий из последовательности целых чисел от 0 до 12. Поменять форму этого массива, чтобы получилась матрица A (двумерный массив Numpy), состоящая из 4 строк и 3 столбцов. Получить матрицу At путем транспонирования матрицы A. Получить матрицу B, умножив матрицу A на матрицу At с помощью матричного умножения. Какой размер имеет матрица B? Получится ли вычислить обратную матрицу для матрицы B и почему?"
      ]
    },
    {
      "cell_type": "code",
      "metadata": {
        "id": "0gozzvRWF5S0",
        "outputId": "77fecbc4-d100-4608-80e9-3a0b3599c60d",
        "colab": {
          "base_uri": "https://localhost:8080/",
          "height": 544
        }
      },
      "source": [
        "a = np.arange(0, 12, dtype=int)\n",
        "A = a.reshape(4, 3)\n",
        "print('A=', A)\n",
        "At = np.transpose(A)\n",
        "B = np.dot(A, At)\n",
        "print('B=', B)\n",
        "print('Size=', B.shape)\n",
        "\n",
        "Bi = np.linalg.inv(B)\n",
        "print('Bi=', Bi)"
      ],
      "execution_count": null,
      "outputs": [
        {
          "output_type": "stream",
          "text": [
            "A= [[ 0  1  2]\n",
            " [ 3  4  5]\n",
            " [ 6  7  8]\n",
            " [ 9 10 11]]\n",
            "B= [[  5  14  23  32]\n",
            " [ 14  50  86 122]\n",
            " [ 23  86 149 212]\n",
            " [ 32 122 212 302]]\n",
            "Size= (4, 4)\n"
          ],
          "name": "stdout"
        },
        {
          "output_type": "error",
          "ename": "LinAlgError",
          "evalue": "ignored",
          "traceback": [
            "\u001b[0;31m---------------------------------------------------------------------------\u001b[0m",
            "\u001b[0;31mLinAlgError\u001b[0m                               Traceback (most recent call last)",
            "\u001b[0;32m<ipython-input-40-18d6e0295b16>\u001b[0m in \u001b[0;36m<module>\u001b[0;34m()\u001b[0m\n\u001b[1;32m      7\u001b[0m \u001b[0mprint\u001b[0m\u001b[0;34m(\u001b[0m\u001b[0;34m'Size='\u001b[0m\u001b[0;34m,\u001b[0m \u001b[0mB\u001b[0m\u001b[0;34m.\u001b[0m\u001b[0mshape\u001b[0m\u001b[0;34m)\u001b[0m\u001b[0;34m\u001b[0m\u001b[0;34m\u001b[0m\u001b[0m\n\u001b[1;32m      8\u001b[0m \u001b[0;34m\u001b[0m\u001b[0m\n\u001b[0;32m----> 9\u001b[0;31m \u001b[0mBi\u001b[0m \u001b[0;34m=\u001b[0m \u001b[0mnp\u001b[0m\u001b[0;34m.\u001b[0m\u001b[0mlinalg\u001b[0m\u001b[0;34m.\u001b[0m\u001b[0minv\u001b[0m\u001b[0;34m(\u001b[0m\u001b[0mB\u001b[0m\u001b[0;34m)\u001b[0m\u001b[0;34m\u001b[0m\u001b[0;34m\u001b[0m\u001b[0m\n\u001b[0m\u001b[1;32m     10\u001b[0m \u001b[0mprint\u001b[0m\u001b[0;34m(\u001b[0m\u001b[0;34m'Bi='\u001b[0m\u001b[0;34m,\u001b[0m \u001b[0mBi\u001b[0m\u001b[0;34m)\u001b[0m\u001b[0;34m\u001b[0m\u001b[0;34m\u001b[0m\u001b[0m\n",
            "\u001b[0;32m<__array_function__ internals>\u001b[0m in \u001b[0;36minv\u001b[0;34m(*args, **kwargs)\u001b[0m\n",
            "\u001b[0;32m/usr/local/lib/python3.6/dist-packages/numpy/linalg/linalg.py\u001b[0m in \u001b[0;36minv\u001b[0;34m(a)\u001b[0m\n\u001b[1;32m    545\u001b[0m     \u001b[0msignature\u001b[0m \u001b[0;34m=\u001b[0m \u001b[0;34m'D->D'\u001b[0m \u001b[0;32mif\u001b[0m \u001b[0misComplexType\u001b[0m\u001b[0;34m(\u001b[0m\u001b[0mt\u001b[0m\u001b[0;34m)\u001b[0m \u001b[0;32melse\u001b[0m \u001b[0;34m'd->d'\u001b[0m\u001b[0;34m\u001b[0m\u001b[0;34m\u001b[0m\u001b[0m\n\u001b[1;32m    546\u001b[0m     \u001b[0mextobj\u001b[0m \u001b[0;34m=\u001b[0m \u001b[0mget_linalg_error_extobj\u001b[0m\u001b[0;34m(\u001b[0m\u001b[0m_raise_linalgerror_singular\u001b[0m\u001b[0;34m)\u001b[0m\u001b[0;34m\u001b[0m\u001b[0;34m\u001b[0m\u001b[0m\n\u001b[0;32m--> 547\u001b[0;31m     \u001b[0mainv\u001b[0m \u001b[0;34m=\u001b[0m \u001b[0m_umath_linalg\u001b[0m\u001b[0;34m.\u001b[0m\u001b[0minv\u001b[0m\u001b[0;34m(\u001b[0m\u001b[0ma\u001b[0m\u001b[0;34m,\u001b[0m \u001b[0msignature\u001b[0m\u001b[0;34m=\u001b[0m\u001b[0msignature\u001b[0m\u001b[0;34m,\u001b[0m \u001b[0mextobj\u001b[0m\u001b[0;34m=\u001b[0m\u001b[0mextobj\u001b[0m\u001b[0;34m)\u001b[0m\u001b[0;34m\u001b[0m\u001b[0;34m\u001b[0m\u001b[0m\n\u001b[0m\u001b[1;32m    548\u001b[0m     \u001b[0;32mreturn\u001b[0m \u001b[0mwrap\u001b[0m\u001b[0;34m(\u001b[0m\u001b[0mainv\u001b[0m\u001b[0;34m.\u001b[0m\u001b[0mastype\u001b[0m\u001b[0;34m(\u001b[0m\u001b[0mresult_t\u001b[0m\u001b[0;34m,\u001b[0m \u001b[0mcopy\u001b[0m\u001b[0;34m=\u001b[0m\u001b[0;32mFalse\u001b[0m\u001b[0;34m)\u001b[0m\u001b[0;34m)\u001b[0m\u001b[0;34m\u001b[0m\u001b[0;34m\u001b[0m\u001b[0m\n\u001b[1;32m    549\u001b[0m \u001b[0;34m\u001b[0m\u001b[0m\n",
            "\u001b[0;32m/usr/local/lib/python3.6/dist-packages/numpy/linalg/linalg.py\u001b[0m in \u001b[0;36m_raise_linalgerror_singular\u001b[0;34m(err, flag)\u001b[0m\n\u001b[1;32m     95\u001b[0m \u001b[0;34m\u001b[0m\u001b[0m\n\u001b[1;32m     96\u001b[0m \u001b[0;32mdef\u001b[0m \u001b[0m_raise_linalgerror_singular\u001b[0m\u001b[0;34m(\u001b[0m\u001b[0merr\u001b[0m\u001b[0;34m,\u001b[0m \u001b[0mflag\u001b[0m\u001b[0;34m)\u001b[0m\u001b[0;34m:\u001b[0m\u001b[0;34m\u001b[0m\u001b[0;34m\u001b[0m\u001b[0m\n\u001b[0;32m---> 97\u001b[0;31m     \u001b[0;32mraise\u001b[0m \u001b[0mLinAlgError\u001b[0m\u001b[0;34m(\u001b[0m\u001b[0;34m\"Singular matrix\"\u001b[0m\u001b[0;34m)\u001b[0m\u001b[0;34m\u001b[0m\u001b[0;34m\u001b[0m\u001b[0m\n\u001b[0m\u001b[1;32m     98\u001b[0m \u001b[0;34m\u001b[0m\u001b[0m\n\u001b[1;32m     99\u001b[0m \u001b[0;32mdef\u001b[0m \u001b[0m_raise_linalgerror_nonposdef\u001b[0m\u001b[0;34m(\u001b[0m\u001b[0merr\u001b[0m\u001b[0;34m,\u001b[0m \u001b[0mflag\u001b[0m\u001b[0;34m)\u001b[0m\u001b[0;34m:\u001b[0m\u001b[0;34m\u001b[0m\u001b[0;34m\u001b[0m\u001b[0m\n",
            "\u001b[0;31mLinAlgError\u001b[0m: Singular matrix"
          ]
        }
      ]
    },
    {
      "cell_type": "markdown",
      "metadata": {
        "id": "x3O002eGHhVk"
      },
      "source": [
        "Инициализируйте генератор случайных числе с помощью объекта seed, равного 42."
      ]
    },
    {
      "cell_type": "code",
      "metadata": {
        "id": "suXIn7ycHkYI"
      },
      "source": [
        "rd = np.random.seed(42)"
      ],
      "execution_count": null,
      "outputs": []
    },
    {
      "cell_type": "markdown",
      "metadata": {
        "id": "IdcoNFPrHnPz"
      },
      "source": [
        "Создайте одномерный массив c, составленный из последовательности 16-ти случайных равномерно распределенных целых чисел от 0 до 16 невключительно. "
      ]
    },
    {
      "cell_type": "code",
      "metadata": {
        "id": "L0n0tm8NHqEr",
        "outputId": "ed28885a-b5f4-41c3-bac4-79ae4696fa47",
        "colab": {
          "base_uri": "https://localhost:8080/",
          "height": 34
        }
      },
      "source": [
        "a = np.random.randint(0, 16, 16)\n",
        "a"
      ],
      "execution_count": null,
      "outputs": [
        {
          "output_type": "execute_result",
          "data": {
            "text/plain": [
              "array([ 6,  3, 12, 14, 10,  7, 12,  4,  6,  9,  2,  6, 10, 10,  7,  4])"
            ]
          },
          "metadata": {
            "tags": []
          },
          "execution_count": 42
        }
      ]
    }
  ]
}